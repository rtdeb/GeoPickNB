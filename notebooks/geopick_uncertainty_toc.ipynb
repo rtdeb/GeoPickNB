{
 "cells": [
  {
   "cell_type": "code",
   "execution_count": 2,
   "metadata": {},
   "outputs": [
    {
     "ename": "SyntaxError",
     "evalue": "invalid syntax. Perhaps you forgot a comma? (3413365862.py, line 2)",
     "output_type": "error",
     "traceback": [
      "\u001b[0;36m  Cell \u001b[0;32mIn[2], line 2\u001b[0;36m\u001b[0m\n\u001b[0;31m    * [1 - Specimens locality interpretation](#section1)\u001b[0m\n\u001b[0m       ^\u001b[0m\n\u001b[0;31mSyntaxError\u001b[0m\u001b[0;31m:\u001b[0m invalid syntax. Perhaps you forgot a comma?\n"
     ]
    }
   ],
   "source": [
    "## Table of Contents\n",
    "* [1 - Specimens locality interpretation](#section1)  \n",
    "* [2 - Azimuth Equal-Area projection centered on the locality](#section2)\n",
    "* [3 - Eventual geometry simplification](#section3)\n",
    "* [4 - Calculate SEC and its centroid](#section4)\n",
    "* [5 - Correct center if necessary](#section5)\n",
    "  * [5.1 - Candidates to become the new corrected center](#section5_1)\n",
    "    * [5.1.1 - Sample of geometry vertices (black dots) as candidate points (yellow dots)](#section5_1_1)\n",
    "    * [5.1.2 - Nearest point (green dot) to the centroid (blue cross)](#section5_1_2)\n",
    "    * [5.1.3 - Candidate points = geometry vertices sample + nearest point](#section5_1_3)\n",
    "  * [5.2 - Calculation of corrected center](#section5_2)\n",
    "    * [5.2.1 - First approximation step](#section5_2_1)\n",
    "    * [5.2.2 - Second approximation](#section5_2_2)\n",
    "    * [5.2.3 - Final selection of best corrected center](#section5_2_3)\n",
    "    * [5.2.4 - Final corrected center and associated uncertainty AEQD projection](#section5_2_4)\n",
    "  * [5.3 Calculation of spatial fit](#section5_3)\n",
    "* [6 - Final point-radius georeference results](#section6)\n",
    "  \n",
    "----------"
   ]
  },
  {
   "cell_type": "code",
   "execution_count": null,
   "metadata": {},
   "outputs": [],
   "source": []
  }
 ],
 "metadata": {
  "kernelspec": {
   "display_name": "Python 3",
   "language": "python",
   "name": "python3"
  },
  "language_info": {
   "codemirror_mode": {
    "name": "ipython",
    "version": 3
   },
   "file_extension": ".py",
   "mimetype": "text/x-python",
   "name": "python",
   "nbconvert_exporter": "python",
   "pygments_lexer": "ipython3",
   "version": "3.11.6"
  }
 },
 "nbformat": 4,
 "nbformat_minor": 2
}
